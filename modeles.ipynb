{
 "cells": [
  {
   "cell_type": "code",
   "execution_count": 1,
   "metadata": {},
   "outputs": [],
   "source": [
    "import pandas as pd\n",
    "import seaborn as sns\n",
    "import matplotlib.pyplot as plt\n",
    "import numpy as np\n",
    "\n",
    "from sklearn.pipeline import make_pipeline \n",
    "from sklearn.preprocessing import PolynomialFeatures, StandardScaler\n",
    "from sklearn.metrics import mean_squared_error\n",
    "from sklearn.model_selection import train_test_split\n",
    "\n",
    "from sklearn.feature_selection import SelectKBest,f_classif \n",
    "\n",
    "from sklearn.linear_model import SGDRegressor\n",
    "\n",
    "#########################################################################################################\n",
    "#imports\n",
    "\n",
    "y_example=pd.read_csv('random_sample.csv')\n",
    "X=pd.read_csv('train_X.csv')\n",
    "y=pd.read_csv('train_y.csv')\n",
    "X_true=pd.read_csv('test_X.csv')\n",
    "\n",
    "#on traitera différemment les usines des groupes 2 et 3. Idem pour les target 2 et 3.\n",
    "\n",
    "mask=X['GROUP_ID']==2\n",
    "\n",
    "X_groupe2=X[mask]\n",
    "X_groupe3=X[~mask]\n",
    "\n",
    "y2=y['PRODUCTION_GROUP_2']\n",
    "y3=y['PRODUCTION_GROUP_3']\n",
    "\n",
    "mask=X_true['GROUP_ID']==2\n",
    "X_true2=X_true[mask]\n",
    "X_true3=X_true[~mask]"
   ]
  },
  {
   "cell_type": "markdown",
   "metadata": {},
   "source": [
    "# On traite d'abord le cas des usines du groupe2, de la mise en forme jusqu'a la prédiction.\n"
   ]
  },
  {
   "cell_type": "code",
   "execution_count": 2,
   "metadata": {},
   "outputs": [
    {
     "name": "stdout",
     "output_type": "stream",
     "text": [
      "matrice A2 de taille (104, 27)\n"
     ]
    }
   ],
   "source": [
    "#####################################################################################################\n",
    "#Par boolean indexing, on somme les mesures d'intérêt(raw) pour le groupe 2 dans une matrice A2\n",
    "\n",
    "def preproc1(X):\n",
    "\n",
    "    mask=(X['MEASURE_TYPE']==3)\n",
    "    X=X[mask]\n",
    "    \n",
    "\n",
    "    A=np.zeros((104,27))\n",
    "    \n",
    "    for i in range(104):\n",
    "        for j in range(27):\n",
    "            mask=(X['ASSET_ID']==j+1) & (X['MEASURE_WEEK']==i+1)\n",
    "            A[i,j]=X['MEASURE_VALUE'][mask].sum()\n",
    "\n",
    "    return(A)\n",
    "\n",
    "A2=preproc1(X_groupe2)\n",
    "print(\"matrice A2 de taille\",A2.shape)\n",
    "\n",
    "########################################################################################################\n",
    "#on arrase les pics de présence sur A2 (incidents->usine non productive)\n",
    "\n",
    "medianes=np.median(A2,axis=0)\n",
    "\n",
    "seuil_1=1.8 #empirique. trouvé en preprocessing\n",
    "\n",
    "\n",
    "mask1=A2>medianes*seuil_1 #meilleur seuil trouvé en preprocessing\n",
    "A2[mask1]=0\n",
    "\n"
   ]
  },
  {
   "cell_type": "code",
   "execution_count": 3,
   "metadata": {},
   "outputs": [
    {
     "name": "stdout",
     "output_type": "stream",
     "text": [
      "meilleur alpha= 3\n",
      "voici les courbes d'apprentissage:\n"
     ]
    },
    {
     "data": {
      "image/png": "[encoded data removed]",
      "text/plain": [
       "<Figure size 432x288 with 1 Axes>"
      ]
     },
     "metadata": {
      "needs_background": "light"
     },
     "output_type": "display_data"
    }
   ],
   "source": [
    "#on split le train afin de trouver la meilleure regul + créer des learning curves\n",
    "\n",
    "X_train, X_test, y_train, y_test =train_test_split(A2,y2,test_size=0.3,random_state=0)\n",
    "\n",
    "#choix de la meilleure constante de regularisation\n",
    "\n",
    "def meilleure_regul(X_train, X_test, y_train, y_test): \n",
    "    liste=[0.01, 0.1, 0.3, 1, 3, 10, 100, 1000, 10000]\n",
    "    L=[]\n",
    "    best_regul=0.01\n",
    "    best_erreur=1000000000000000000000000000000000\n",
    "    for val in liste:\n",
    "        \n",
    "        model=make_pipeline(StandardScaler(),SGDRegressor(random_state=0,alpha=val))\n",
    "        model.fit(X_train,y_train)\n",
    "        ypred=model.predict(X_test)\n",
    "        erreur_courante=mean_squared_error(ypred,y_test,squared=False)\n",
    "        \n",
    "        if erreur_courante<best_erreur:\n",
    "            best_regul=val\n",
    "            best_erreur=erreur_courante\n",
    "        \n",
    "    return best_regul\n",
    "    \n",
    "    \n",
    "best_regul=meilleure_regul(X_train, X_test, y_train, y_test)\n",
    "print(\"meilleur alpha=\",best_regul)\n",
    "\n",
    "# courbes d'apprentissage\n",
    "\n",
    "def curves(X_train, X_test, y_train, y_test):\n",
    "    \n",
    "    tailles=range(5,80,5)\n",
    "    L_erreur_test=[]\n",
    "    L_erreur_train=[]\n",
    "    \n",
    "    for taille in tailles:\n",
    "        xtr=X_train[0:taille,:]\n",
    "        ytr=y_train[0:taille]\n",
    "        \n",
    "        model=make_pipeline(StandardScaler(),SGDRegressor(random_state=0,alpha=best_regul))\n",
    "        model.fit(xtr,ytr)\n",
    "        \n",
    "        y1=model.predict(xtr)\n",
    "        L_erreur_train.append(mean_squared_error(y1,ytr,squared=False))\n",
    "        \n",
    "        y2=model.predict(X_test)\n",
    "        L_erreur_test.append(mean_squared_error(y2,y_test,squared=False))\n",
    "    print(\"voici les courbes d'apprentissage:\")  \n",
    "    plt.figure()\n",
    "        \n",
    "    plt.plot(tailles, L_erreur_train, label=\"train\")\n",
    "    plt.plot(tailles, L_erreur_test, label=\"test\") \n",
    "    plt.legend()\n",
    "curves(X_train, X_test, y_train, y_test)\n",
    "\n",
    "#remarque : notre modele est en underfitting sur le groupe 2"
   ]
  },
  {
   "cell_type": "code",
   "execution_count": 4,
   "metadata": {},
   "outputs": [
    {
     "name": "stdout",
     "output_type": "stream",
     "text": [
      "matrice A2_true de taille (46, 27)\n"
     ]
    }
   ],
   "source": [
    "#Par boolean indexing, on somme les mesures d'intérêt(raw) pour le xtrue2 dans une matrice A2_true\n",
    "\n",
    "def preproc2(X):\n",
    "\n",
    "    mask=(X['MEASURE_TYPE']==3)\n",
    "    X=X[mask]\n",
    "   \n",
    "    A=np.zeros((46,27))\n",
    "    \n",
    "    for i in range(46):\n",
    "        for j in range(27):\n",
    "            mask=(X['ASSET_ID']==j+1) & (X['SAMPLE_ID']==105+i)\n",
    "            A[i,j]=X['MEASURE_VALUE'][mask].sum()           \n",
    "    return(A)\n",
    "\n",
    "A2_true=preproc2(X_true2)\n",
    "print(\"matrice A2_true de taille\",A2_true.shape)\n",
    "\n",
    "########################################################################################################\n",
    "#on arrase les pics de présence avec le même seuil (incidents->usine non productive)\n",
    "\n",
    "mask=A2_true>medianes*seuil_1\n",
    "A2_true[mask]=0\n"
   ]
  },
  {
   "cell_type": "code",
   "execution_count": 5,
   "metadata": {},
   "outputs": [
    {
     "name": "stdout",
     "output_type": "stream",
     "text": [
      "(46,)\n"
     ]
    },
    {
     "data": {
      "text/plain": [
       "array([3852225.54180587, 3769307.2495868 , 3831290.32395676,\n",
       "       3944719.59654164, 3689363.94929525])"
      ]
     },
     "execution_count": 5,
     "metadata": {},
     "output_type": "execute_result"
    }
   ],
   "source": [
    "#prévision : on entraine sur A2. On prédit sur A2_true.\n",
    "\n",
    "model=make_pipeline(StandardScaler(),SGDRegressor(random_state=0,alpha=best_regul))\n",
    "model.fit(A2,y2)\n",
    "\n",
    "ypred_finale2= model.predict(A2_true)\n",
    "\n",
    "print(ypred_finale2.shape)\n",
    "ypred_finale2[0:5]"
   ]
  },
  {
   "cell_type": "markdown",
   "metadata": {},
   "source": [
    "# Idem pour le groupe 3:"
   ]
  },
  {
   "cell_type": "code",
   "execution_count": 6,
   "metadata": {},
   "outputs": [
    {
     "name": "stdout",
     "output_type": "stream",
     "text": [
      "matrice A3 de taille (104, 56)\n"
     ]
    }
   ],
   "source": [
    "#Par boolean indexing, on somme les mesures d'intérêt(raw) pour le groupe 3 dans une matrice A3\n",
    "\n",
    "def preproc3(X): #crée la matrice pour le train_3\n",
    "\n",
    "    mask=(X['MEASURE_TYPE']==3)\n",
    "    X=X[mask]\n",
    "    \n",
    "    A=np.zeros((104,56))\n",
    "    \n",
    "    for i in range(104):\n",
    "        for j in range(56):\n",
    "            mask=(X['ASSET_ID']==j+28) & (X['MEASURE_WEEK']==i+1)\n",
    "            A[i,j]=X['MEASURE_VALUE'][mask].sum()\n",
    "    return(A)\n",
    "\n",
    "A3=preproc3(X_groupe3)\n",
    "print(\"matrice A3 de taille\",A3.shape)\n",
    "\n",
    "########################################################################################################\n",
    "#on arrase les pics de présence sur A3 (incidents->usine non productive)\n",
    "\n",
    "\n",
    "medianes=np.median(A3,axis=0)\n",
    "\n",
    "\n",
    "seuil_2=2.1 #empirique. Trouvé en preprocessing\n",
    "\n",
    "mask=A3>medianes*seuil_2\n",
    "A3[mask]=0\n",
    "\n",
    "\n"
   ]
  },
  {
   "cell_type": "code",
   "execution_count": 7,
   "metadata": {},
   "outputs": [
    {
     "name": "stdout",
     "output_type": "stream",
     "text": [
      "matrice A3_true de taille (46, 56)\n"
     ]
    }
   ],
   "source": [
    "#Par boolean indexing, on somme les mesures d'intérêt(raw) pour le xtrue3 dans une matrice A3_true\n",
    "\n",
    "def preproc4(X): \n",
    "\n",
    "    mask=X['MEASURE_TYPE']==3\n",
    "    X=X[mask]\n",
    "   \n",
    "    A=np.zeros((46,56))\n",
    "   \n",
    "    for i in range(46):\n",
    "        for j in range(56):\n",
    "            mask=(X['ASSET_ID']==28+j) & (X['SAMPLE_ID']==105+i)\n",
    "            A[i,j]=X['MEASURE_VALUE'][mask].sum()\n",
    "    return(A)\n",
    "\n",
    "A3_true=preproc4(X_true3)\n",
    "print(\"matrice A3_true de taille\", A3_true.shape)\n",
    "\n",
    "#on arrase les pics de la même façon\n",
    "\n",
    "mask2=A3_true>medianes*seuil_2\n",
    "A3_true[mask2]=0"
   ]
  },
  {
   "cell_type": "code",
   "execution_count": 8,
   "metadata": {},
   "outputs": [
    {
     "name": "stdout",
     "output_type": "stream",
     "text": [
      "meilleur alpha= 1\n",
      "voici les courbes d'apprentissage:\n"
     ]
    },
    {
     "data": {
      "image/png": "[encoded data removed]",
      "text/plain": [
       "<Figure size 432x288 with 1 Axes>"
      ]
     },
     "metadata": {
      "needs_background": "light"
     },
     "output_type": "display_data"
    }
   ],
   "source": [
    "#on split le train afin de créer des learning curves\n",
    "\n",
    "X_train, X_test, y_train, y_test =train_test_split(A3,y3,test_size=0.3,random_state=0)\n",
    "\n",
    "#ici learning curves et choix de la meilleure regul\n",
    "\n",
    "\n",
    "def meilleure_regul(X_train, X_test, y_train, y_test): \n",
    "    liste=[0.01, 0.1, 0.3, 1, 3, 10, 100, 1000, 10000]\n",
    "    L=[]\n",
    "    best_regul=0.01\n",
    "    best_erreur=1000000000000000000000000000000000\n",
    "    for val in liste:\n",
    "        \n",
    "        model=make_pipeline(StandardScaler(),SGDRegressor(random_state=0,alpha=val))\n",
    "        model.fit(X_train,y_train)\n",
    "        ypred=model.predict(X_test)\n",
    "        erreur_courante=mean_squared_error(ypred,y_test,squared=False)\n",
    "        \n",
    "        if erreur_courante<best_erreur:\n",
    "            best_regul=val\n",
    "            best_erreur=erreur_courante\n",
    "        \n",
    "    return best_regul\n",
    "    \n",
    "    \n",
    "best_regul=meilleure_regul(X_train, X_test, y_train, y_test)\n",
    "print(\"meilleur alpha=\",best_regul)\n",
    "\n",
    "def curves(X_train, X_test, y_train, y_test):\n",
    "    \n",
    "    tailles=range(5,80,5)\n",
    "    L_erreur_test=[]\n",
    "    L_erreur_train=[]\n",
    "    \n",
    "    for taille in tailles:\n",
    "        xtr=X_train[0:taille,:]\n",
    "        ytr=y_train[0:taille]\n",
    "        \n",
    "        model=make_pipeline(StandardScaler(),SGDRegressor(random_state=0,alpha=best_regul))\n",
    "        model.fit(xtr,ytr)\n",
    "        \n",
    "        y1=model.predict(xtr)\n",
    "        L_erreur_train.append(mean_squared_error(y1,ytr,squared=False))\n",
    "        \n",
    "        y2=model.predict(X_test)\n",
    "        L_erreur_test.append(mean_squared_error(y2,y_test,squared=False))\n",
    "    print(\"voici les courbes d'apprentissage:\")   \n",
    "    plt.figure()\n",
    "        \n",
    "    plt.plot(tailles, L_erreur_train, label=\"train\")\n",
    "    plt.plot(tailles, L_erreur_test, label=\"test\") \n",
    "    plt.legend()\n",
    "curves(X_train, X_test, y_train, y_test)\n",
    "\n",
    "#erreur un peu élévée? soupçon de bias (underfitting potentiel)"
   ]
  },
  {
   "cell_type": "code",
   "execution_count": 9,
   "metadata": {},
   "outputs": [
    {
     "name": "stdout",
     "output_type": "stream",
     "text": [
      "(46,)\n"
     ]
    },
    {
     "data": {
      "text/plain": [
       "array([9361205.87705467, 9249256.78672033, 9628603.68625237,\n",
       "       9169516.12746263, 8851873.81935316])"
      ]
     },
     "execution_count": 9,
     "metadata": {},
     "output_type": "execute_result"
    }
   ],
   "source": [
    "#prévision : on entraine sur A3. On prédit sur A3_true.\n",
    "\n",
    "model=make_pipeline(StandardScaler(),SGDRegressor(random_state=0,alpha=best_regul))\n",
    "model.fit(A3,y3)\n",
    "\n",
    "ypred_finale3= model.predict(A3_true)\n",
    "\n",
    "print(ypred_finale3.shape)\n",
    "ypred_finale3[0:5]"
   ]
  },
  {
   "cell_type": "markdown",
   "metadata": {},
   "source": [
    "# On met les deux prévizs au bon format"
   ]
  },
  {
   "cell_type": "code",
   "execution_count": 10,
   "metadata": {},
   "outputs": [
    {
     "data": {
      "text/html": [
       "<div>\n",
       "<style scoped>\n",
       "    .dataframe tbody tr th:only-of-type {\n",
       "        vertical-align: middle;\n",
       "    }\n",
       "\n",
       "    .dataframe tbody tr th {\n",
       "        vertical-align: top;\n",
       "    }\n",
       "\n",
       "    .dataframe thead th {\n",
       "        text-align: right;\n",
       "    }\n",
       "</style>\n",
       "<table border=\"1\" class=\"dataframe\">\n",
       "  <thead>\n",
       "    <tr style=\"text-align: right;\">\n",
       "      <th></th>\n",
       "      <th>SAMPLE_ID</th>\n",
       "      <th>PRODUCTION_GROUP_2</th>\n",
       "      <th>PRODUCTION_GROUP_3</th>\n",
       "    </tr>\n",
       "  </thead>\n",
       "  <tbody>\n",
       "    <tr>\n",
       "      <th>0</th>\n",
       "      <td>105</td>\n",
       "      <td>3.852226e+06</td>\n",
       "      <td>9.361206e+06</td>\n",
       "    </tr>\n",
       "    <tr>\n",
       "      <th>1</th>\n",
       "      <td>106</td>\n",
       "      <td>3.769307e+06</td>\n",
       "      <td>9.249257e+06</td>\n",
       "    </tr>\n",
       "    <tr>\n",
       "      <th>2</th>\n",
       "      <td>107</td>\n",
       "      <td>3.831290e+06</td>\n",
       "      <td>9.628604e+06</td>\n",
       "    </tr>\n",
       "    <tr>\n",
       "      <th>3</th>\n",
       "      <td>108</td>\n",
       "      <td>3.944720e+06</td>\n",
       "      <td>9.169516e+06</td>\n",
       "    </tr>\n",
       "    <tr>\n",
       "      <th>4</th>\n",
       "      <td>109</td>\n",
       "      <td>3.689364e+06</td>\n",
       "      <td>8.851874e+06</td>\n",
       "    </tr>\n",
       "    <tr>\n",
       "      <th>5</th>\n",
       "      <td>110</td>\n",
       "      <td>4.006076e+06</td>\n",
       "      <td>9.449874e+06</td>\n",
       "    </tr>\n",
       "    <tr>\n",
       "      <th>6</th>\n",
       "      <td>111</td>\n",
       "      <td>3.700315e+06</td>\n",
       "      <td>9.168325e+06</td>\n",
       "    </tr>\n",
       "    <tr>\n",
       "      <th>7</th>\n",
       "      <td>112</td>\n",
       "      <td>3.552932e+06</td>\n",
       "      <td>8.555380e+06</td>\n",
       "    </tr>\n",
       "    <tr>\n",
       "      <th>8</th>\n",
       "      <td>113</td>\n",
       "      <td>3.755154e+06</td>\n",
       "      <td>9.105396e+06</td>\n",
       "    </tr>\n",
       "    <tr>\n",
       "      <th>9</th>\n",
       "      <td>114</td>\n",
       "      <td>3.883544e+06</td>\n",
       "      <td>9.330229e+06</td>\n",
       "    </tr>\n",
       "    <tr>\n",
       "      <th>10</th>\n",
       "      <td>115</td>\n",
       "      <td>3.763722e+06</td>\n",
       "      <td>9.208480e+06</td>\n",
       "    </tr>\n",
       "    <tr>\n",
       "      <th>11</th>\n",
       "      <td>116</td>\n",
       "      <td>3.839699e+06</td>\n",
       "      <td>9.149635e+06</td>\n",
       "    </tr>\n",
       "    <tr>\n",
       "      <th>12</th>\n",
       "      <td>117</td>\n",
       "      <td>3.792803e+06</td>\n",
       "      <td>9.130069e+06</td>\n",
       "    </tr>\n",
       "    <tr>\n",
       "      <th>13</th>\n",
       "      <td>118</td>\n",
       "      <td>3.577100e+06</td>\n",
       "      <td>9.000532e+06</td>\n",
       "    </tr>\n",
       "    <tr>\n",
       "      <th>14</th>\n",
       "      <td>119</td>\n",
       "      <td>3.882981e+06</td>\n",
       "      <td>9.439362e+06</td>\n",
       "    </tr>\n",
       "    <tr>\n",
       "      <th>15</th>\n",
       "      <td>120</td>\n",
       "      <td>3.937658e+06</td>\n",
       "      <td>9.252277e+06</td>\n",
       "    </tr>\n",
       "    <tr>\n",
       "      <th>16</th>\n",
       "      <td>121</td>\n",
       "      <td>3.711050e+06</td>\n",
       "      <td>8.731992e+06</td>\n",
       "    </tr>\n",
       "    <tr>\n",
       "      <th>17</th>\n",
       "      <td>122</td>\n",
       "      <td>3.926531e+06</td>\n",
       "      <td>9.104479e+06</td>\n",
       "    </tr>\n",
       "    <tr>\n",
       "      <th>18</th>\n",
       "      <td>123</td>\n",
       "      <td>3.908572e+06</td>\n",
       "      <td>9.442227e+06</td>\n",
       "    </tr>\n",
       "    <tr>\n",
       "      <th>19</th>\n",
       "      <td>124</td>\n",
       "      <td>3.665021e+06</td>\n",
       "      <td>9.323101e+06</td>\n",
       "    </tr>\n",
       "    <tr>\n",
       "      <th>20</th>\n",
       "      <td>125</td>\n",
       "      <td>3.841595e+06</td>\n",
       "      <td>9.372265e+06</td>\n",
       "    </tr>\n",
       "    <tr>\n",
       "      <th>21</th>\n",
       "      <td>126</td>\n",
       "      <td>3.829540e+06</td>\n",
       "      <td>9.018216e+06</td>\n",
       "    </tr>\n",
       "    <tr>\n",
       "      <th>22</th>\n",
       "      <td>127</td>\n",
       "      <td>3.822693e+06</td>\n",
       "      <td>9.334909e+06</td>\n",
       "    </tr>\n",
       "    <tr>\n",
       "      <th>23</th>\n",
       "      <td>128</td>\n",
       "      <td>3.845019e+06</td>\n",
       "      <td>9.491911e+06</td>\n",
       "    </tr>\n",
       "    <tr>\n",
       "      <th>24</th>\n",
       "      <td>129</td>\n",
       "      <td>3.613510e+06</td>\n",
       "      <td>8.708712e+06</td>\n",
       "    </tr>\n",
       "    <tr>\n",
       "      <th>25</th>\n",
       "      <td>130</td>\n",
       "      <td>3.861691e+06</td>\n",
       "      <td>9.342176e+06</td>\n",
       "    </tr>\n",
       "    <tr>\n",
       "      <th>26</th>\n",
       "      <td>131</td>\n",
       "      <td>3.759023e+06</td>\n",
       "      <td>9.330628e+06</td>\n",
       "    </tr>\n",
       "    <tr>\n",
       "      <th>27</th>\n",
       "      <td>132</td>\n",
       "      <td>3.754444e+06</td>\n",
       "      <td>9.392228e+06</td>\n",
       "    </tr>\n",
       "    <tr>\n",
       "      <th>28</th>\n",
       "      <td>133</td>\n",
       "      <td>3.523552e+06</td>\n",
       "      <td>8.693256e+06</td>\n",
       "    </tr>\n",
       "    <tr>\n",
       "      <th>29</th>\n",
       "      <td>134</td>\n",
       "      <td>3.758833e+06</td>\n",
       "      <td>9.520677e+06</td>\n",
       "    </tr>\n",
       "    <tr>\n",
       "      <th>30</th>\n",
       "      <td>135</td>\n",
       "      <td>3.611146e+06</td>\n",
       "      <td>8.730566e+06</td>\n",
       "    </tr>\n",
       "    <tr>\n",
       "      <th>31</th>\n",
       "      <td>136</td>\n",
       "      <td>3.533604e+06</td>\n",
       "      <td>9.087001e+06</td>\n",
       "    </tr>\n",
       "    <tr>\n",
       "      <th>32</th>\n",
       "      <td>137</td>\n",
       "      <td>3.805520e+06</td>\n",
       "      <td>9.154142e+06</td>\n",
       "    </tr>\n",
       "    <tr>\n",
       "      <th>33</th>\n",
       "      <td>138</td>\n",
       "      <td>3.908715e+06</td>\n",
       "      <td>9.035670e+06</td>\n",
       "    </tr>\n",
       "    <tr>\n",
       "      <th>34</th>\n",
       "      <td>139</td>\n",
       "      <td>3.766478e+06</td>\n",
       "      <td>8.976089e+06</td>\n",
       "    </tr>\n",
       "    <tr>\n",
       "      <th>35</th>\n",
       "      <td>140</td>\n",
       "      <td>3.879710e+06</td>\n",
       "      <td>9.063948e+06</td>\n",
       "    </tr>\n",
       "    <tr>\n",
       "      <th>36</th>\n",
       "      <td>141</td>\n",
       "      <td>3.758591e+06</td>\n",
       "      <td>8.675837e+06</td>\n",
       "    </tr>\n",
       "    <tr>\n",
       "      <th>37</th>\n",
       "      <td>142</td>\n",
       "      <td>3.596807e+06</td>\n",
       "      <td>9.620921e+06</td>\n",
       "    </tr>\n",
       "    <tr>\n",
       "      <th>38</th>\n",
       "      <td>143</td>\n",
       "      <td>3.802567e+06</td>\n",
       "      <td>9.208128e+06</td>\n",
       "    </tr>\n",
       "    <tr>\n",
       "      <th>39</th>\n",
       "      <td>144</td>\n",
       "      <td>3.836367e+06</td>\n",
       "      <td>9.233739e+06</td>\n",
       "    </tr>\n",
       "    <tr>\n",
       "      <th>40</th>\n",
       "      <td>145</td>\n",
       "      <td>3.694868e+06</td>\n",
       "      <td>9.411146e+06</td>\n",
       "    </tr>\n",
       "    <tr>\n",
       "      <th>41</th>\n",
       "      <td>146</td>\n",
       "      <td>3.939260e+06</td>\n",
       "      <td>9.301849e+06</td>\n",
       "    </tr>\n",
       "    <tr>\n",
       "      <th>42</th>\n",
       "      <td>147</td>\n",
       "      <td>3.812352e+06</td>\n",
       "      <td>9.151781e+06</td>\n",
       "    </tr>\n",
       "    <tr>\n",
       "      <th>43</th>\n",
       "      <td>148</td>\n",
       "      <td>3.985629e+06</td>\n",
       "      <td>8.829450e+06</td>\n",
       "    </tr>\n",
       "    <tr>\n",
       "      <th>44</th>\n",
       "      <td>149</td>\n",
       "      <td>3.760848e+06</td>\n",
       "      <td>9.084346e+06</td>\n",
       "    </tr>\n",
       "    <tr>\n",
       "      <th>45</th>\n",
       "      <td>150</td>\n",
       "      <td>3.823301e+06</td>\n",
       "      <td>9.216872e+06</td>\n",
       "    </tr>\n",
       "  </tbody>\n",
       "</table>\n",
       "</div>"
      ],
      "text/plain": [
       "    SAMPLE_ID  PRODUCTION_GROUP_2  PRODUCTION_GROUP_3\n",
       "0         105        3.852226e+06        9.361206e+06\n",
       "1         106        3.769307e+06        9.249257e+06\n",
       "2         107        3.831290e+06        9.628604e+06\n",
       "3         108        3.944720e+06        9.169516e+06\n",
       "4         109        3.689364e+06        8.851874e+06\n",
       "5         110        4.006076e+06        9.449874e+06\n",
       "6         111        3.700315e+06        9.168325e+06\n",
       "7         112        3.552932e+06        8.555380e+06\n",
       "8         113        3.755154e+06        9.105396e+06\n",
       "9         114        3.883544e+06        9.330229e+06\n",
       "10        115        3.763722e+06        9.208480e+06\n",
       "11        116        3.839699e+06        9.149635e+06\n",
       "12        117        3.792803e+06        9.130069e+06\n",
       "13        118        3.577100e+06        9.000532e+06\n",
       "14        119        3.882981e+06        9.439362e+06\n",
       "15        120        3.937658e+06        9.252277e+06\n",
       "16        121        3.711050e+06        8.731992e+06\n",
       "17        122        3.926531e+06        9.104479e+06\n",
       "18        123        3.908572e+06        9.442227e+06\n",
       "19        124        3.665021e+06        9.323101e+06\n",
       "20        125        3.841595e+06        9.372265e+06\n",
       "21        126        3.829540e+06        9.018216e+06\n",
       "22        127        3.822693e+06        9.334909e+06\n",
       "23        128        3.845019e+06        9.491911e+06\n",
       "24        129        3.613510e+06        8.708712e+06\n",
       "25        130        3.861691e+06        9.342176e+06\n",
       "26        131        3.759023e+06        9.330628e+06\n",
       "27        132        3.754444e+06        9.392228e+06\n",
       "28        133        3.523552e+06        8.693256e+06\n",
       "29        134        3.758833e+06        9.520677e+06\n",
       "30        135        3.611146e+06        8.730566e+06\n",
       "31        136        3.533604e+06        9.087001e+06\n",
       "32        137        3.805520e+06        9.154142e+06\n",
       "33        138        3.908715e+06        9.035670e+06\n",
       "34        139        3.766478e+06        8.976089e+06\n",
       "35        140        3.879710e+06        9.063948e+06\n",
       "36        141        3.758591e+06        8.675837e+06\n",
       "37        142        3.596807e+06        9.620921e+06\n",
       "38        143        3.802567e+06        9.208128e+06\n",
       "39        144        3.836367e+06        9.233739e+06\n",
       "40        145        3.694868e+06        9.411146e+06\n",
       "41        146        3.939260e+06        9.301849e+06\n",
       "42        147        3.812352e+06        9.151781e+06\n",
       "43        148        3.985629e+06        8.829450e+06\n",
       "44        149        3.760848e+06        9.084346e+06\n",
       "45        150        3.823301e+06        9.216872e+06"
      ]
     },
     "execution_count": 10,
     "metadata": {},
     "output_type": "execute_result"
    }
   ],
   "source": [
    "y_example['PRODUCTION_GROUP_2']=ypred_finale2\n",
    "y_example['PRODUCTION_GROUP_3']=ypred_finale3\n",
    "y_example.to_csv('polynomial.csv' ,index=False)\n",
    "y_example"
   ]
  },
  {
   "cell_type": "code",
   "execution_count": null,
   "metadata": {},
   "outputs": [],
   "source": []
  },
  {
   "cell_type": "markdown",
   "metadata": {},
   "source": [
    "# fonction pour trouver le meilleur coeff d'arrasement des pics (seuil mediane*coeff) "
   ]
  },
  {
   "cell_type": "code",
   "execution_count": 23,
   "metadata": {},
   "outputs": [],
   "source": [
    "#détermination du meilleur seuil pour arraser les pics (fait en preprocess)\n",
    "\n",
    "def meilleur_seuil(medianes, X_train, X_test, y_train, y_test): \n",
    "    seuils=np.linspace(4,1,100)\n",
    "    L=[]\n",
    "    \n",
    "    for coef in seuils:\n",
    "        mask1=X_train>medianes*coef  \n",
    "        X_train[mask1]=0\n",
    "        \n",
    "        mask2=X_test>medianes*coef\n",
    "        X_test[mask2]=0\n",
    "\n",
    "        model=make_pipeline(StandardScaler(),SGDRegressor(random_state=0,alpha=10))\n",
    "        model.fit(X_train,y_train)\n",
    "        ypred=model.predict(X_test)\n",
    "\n",
    "        L.append(mean_squared_error(ypred,y_test))\n",
    "    print(\"courbe pour le meilleur coef d'arrasement:\")\n",
    "    plt.plot(seuils,L)\n",
    "    \n"
   ]
  },
  {
   "cell_type": "markdown",
   "metadata": {},
   "source": [
    "# OPTIONNEL : essais supplémentaires"
   ]
  },
  {
   "cell_type": "markdown",
   "metadata": {},
   "source": [
    "# essai d'expansion polynomiale pour contrer l'underfitting (échec)"
   ]
  },
  {
   "cell_type": "code",
   "execution_count": 6,
   "metadata": {},
   "outputs": [
    {
     "name": "stdout",
     "output_type": "stream",
     "text": [
      "(46,)\n"
     ]
    },
    {
     "data": {
      "text/plain": [
       "array([3927217.97238462, 3716471.1411272 , 3869620.01059734,\n",
       "       4098369.42477521, 3567117.59164064])"
      ]
     },
     "execution_count": 6,
     "metadata": {},
     "output_type": "execute_result"
    }
   ],
   "source": [
    "#prévision : on entraine sur A2. On prédit sur A2_true.\n",
    "\n",
    "model=make_pipeline(PolynomialFeatures(2),StandardScaler(),SGDRegressor(random_state=0,alpha=best_regul))\n",
    "model.fit(A2,y2)\n",
    "\n",
    "ypred_finale2= model.predict(A2_true)\n",
    "\n",
    "print(ypred_finale2.shape)\n",
    "ypred_finale2[0:5]"
   ]
  },
  {
   "cell_type": "code",
   "execution_count": 10,
   "metadata": {},
   "outputs": [
    {
     "name": "stdout",
     "output_type": "stream",
     "text": [
      "(46,)\n"
     ]
    },
    {
     "data": {
      "text/plain": [
       "array([-3.19799467e+12, -4.46649915e+12, -8.71230565e+11, -3.29392135e+12,\n",
       "       -1.25714627e+12])"
      ]
     },
     "execution_count": 10,
     "metadata": {},
     "output_type": "execute_result"
    }
   ],
   "source": [
    "#prévision : on entraine sur A3. On prédit sur A3_true.\n",
    "\n",
    "model=make_pipeline(PolynomialFeatures(2),StandardScaler(),SGDRegressor(random_state=0,alpha=best_regul))\n",
    "model.fit(A3,y3)\n",
    "\n",
    "ypred_finale3= model.predict(A3_true)\n",
    "\n",
    "print(ypred_finale3.shape)\n",
    "ypred_finale3[0:5]"
   ]
  }
 ],
 "metadata": {
  "kernelspec": {
   "display_name": "Python 3",
   "language": "python",
   "name": "python3"
  },
  "language_info": {
   "codemirror_mode": {
    "name": "ipython",
    "version": 3
   },
   "file_extension": ".py",
   "mimetype": "text/x-python",
   "name": "python",
   "nbconvert_exporter": "python",
   "pygments_lexer": "ipython3",
   "version": "3.8.5"
  }
 },
 "nbformat": 4,
 "nbformat_minor": 4
}
