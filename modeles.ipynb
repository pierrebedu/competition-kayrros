{
 "cells": [
  {
   "cell_type": "code",
   "execution_count": 2,
   "metadata": {},
   "outputs": [],
   "source": [
    "import pandas as pd\n",
    "import seaborn as sns\n",
    "import matplotlib.pyplot as plt\n",
    "import numpy as np\n",
    "\n",
    "from sklearn.pipeline import make_pipeline \n",
    "from sklearn.preprocessing import PolynomialFeatures, StandardScaler\n",
    "from sklearn.metrics import mean_squared_error\n",
    "from sklearn.model_selection import train_test_split\n",
    "\n",
    "from sklearn.feature_selection import SelectKBest,f_classif \n",
    "\n",
    "from sklearn.linear_model import SGDRegressor"
   ]
  },
  {
   "cell_type": "markdown",
   "metadata": {},
   "source": [
    "# Loading the dataset"
   ]
  },
  {
   "cell_type": "code",
   "execution_count": 3,
   "metadata": {},
   "outputs": [],
   "source": [
    "X = pd.read_csv('train_X.csv')\n",
    "y = pd.read_csv('train_y.csv')\n",
    "X_true = pd.read_csv('test_X.csv')\n",
    "y_example = pd.read_csv('random_sample.csv')"
   ]
  },
  {
   "cell_type": "markdown",
   "metadata": {},
   "source": [
    "# See the EDA file for details on the preprocessing & strategy"
   ]
  },
  {
   "cell_type": "code",
   "execution_count": 4,
   "metadata": {},
   "outputs": [],
   "source": [
    "mask = (X['GROUP_ID'] == 2)\n",
    "X_groupe2 = X[mask]\n",
    "X_groupe3 = X[~mask]\n",
    "\n",
    "mask = ( X_true['GROUP_ID']==2 ) #same for X_true\n",
    "X_true2 = X_true[mask]\n",
    "X_true3 = X_true[~mask]\n",
    "\n",
    "y2 = y['PRODUCTION_GROUP_2'] #splitting the target for each group\n",
    "y3 = y['PRODUCTION_GROUP_3']"
   ]
  },
  {
   "cell_type": "markdown",
   "metadata": {},
   "source": [
    "# ##################FIRST : ASSETS OF GROUP 2#####################\n"
   ]
  },
  {
   "cell_type": "code",
   "execution_count": 5,
   "metadata": {},
   "outputs": [
    {
     "name": "stdout",
     "output_type": "stream",
     "text": [
      "A2 is a matrix of size :  (104, 27)\n"
     ]
    }
   ],
   "source": [
    "# boolean indexing, storing hours (type 3 only) in a numpy array : A2\n",
    "\n",
    "def preproc1(X):\n",
    "\n",
    "    mask = ( X['MEASURE_TYPE']==3 ) \n",
    "    X = X[mask]\n",
    "    \n",
    "\n",
    "    A2 = np.zeros((104,27))\n",
    "    \n",
    "    for i in range(104):\n",
    "        for j in range(27):\n",
    "            mask = ( X['ASSET_ID'] == j+1 ) & ( X['MEASURE_WEEK'] == i+1 )\n",
    "            A2[i,j] = X['MEASURE_VALUE'][mask].sum()\n",
    "\n",
    "    return(A2)\n",
    "\n",
    "A2 = preproc1(X_groupe2)\n",
    "print(\"A2 is a matrix of size : \", A2.shape)\n",
    "\n",
    "########################################################################################################\n",
    "# then we delete all values beyond a threshold (found empirically)  -> problem in the asset means no production at all\n",
    "\n",
    "medianes = np.median(A2,axis=0)\n",
    "threshold = 1.8 #empirical\n",
    "mask_threshold = ( A2 > medianes*threshold ) \n",
    "A2[ mask_threshold ] = 0\n",
    "\n"
   ]
  },
  {
   "cell_type": "markdown",
   "metadata": {},
   "source": [
    "# Splitting train and test"
   ]
  },
  {
   "cell_type": "code",
   "execution_count": 12,
   "metadata": {},
   "outputs": [
    {
     "name": "stdout",
     "output_type": "stream",
     "text": [
      "best alpha= 3\n"
     ]
    }
   ],
   "source": [
    "X_train, X_test, y_train, y_test = train_test_split( A2, y2, test_size=0.3, random_state=0)\n",
    "\n",
    "\n",
    "\n",
    "def best_value_alpha(X_train, X_test, y_train, y_test):  # looking for the best regularization value\n",
    "    \n",
    "    list_alpha =[0.01, 0.1, 0.3, 1, 3, 10, 100, 1000, 10000]\n",
    "    L=[]\n",
    "    best_regul = 0.01\n",
    "    best_error = 10e10\n",
    "    \n",
    "    for val in list_alpha :\n",
    "        \n",
    "        model = make_pipeline( StandardScaler(), SGDRegressor(random_state=0, alpha=val) )\n",
    "        model.fit(X_train, y_train)\n",
    "        ypred = model.predict( X_test )\n",
    "        error_current = mean_squared_error(ypred, y_test, squared=False)\n",
    "        \n",
    "        if error_current < best_error :\n",
    "            best_regul = val\n",
    "            best_error = error_current\n",
    "        \n",
    "    return best_regul\n",
    "    \n",
    "    \n",
    "best_alpha = best_value_alpha(X_train, X_test, y_train, y_test)\n",
    "print(\"best alpha=\", best_alpha)\n",
    "\n",
    "\n"
   ]
  },
  {
   "cell_type": "markdown",
   "metadata": {},
   "source": [
    "# Learning curves"
   ]
  },
  {
   "cell_type": "code",
   "execution_count": 25,
   "metadata": {},
   "outputs": [
    {
     "name": "stdout",
     "output_type": "stream",
     "text": [
      "Learning curves:\n"
     ]
    },
    {
     "data": {
      "image/png": "[encoded data removed]",
      "text/plain": [
       "<Figure size 432x288 with 1 Axes>"
      ]
     },
     "metadata": {
      "needs_background": "light"
     },
     "output_type": "display_data"
    }
   ],
   "source": [
    "def curves(X_train, X_test, y_train, y_test):\n",
    "    \n",
    "    sizes = range(5,80,5)\n",
    "    L_error_test=[]\n",
    "    L_error_train=[]\n",
    "    \n",
    "    for size in sizes:\n",
    "        \n",
    "        xtr = X_train[0:size,:]\n",
    "        ytr = y_train[0:size]\n",
    "        \n",
    "        model = make_pipeline( StandardScaler(), SGDRegressor(random_state=0,alpha=1) )\n",
    "        model.fit(xtr, ytr)\n",
    "        \n",
    "        ypred_tr = model.predict(xtr)\n",
    "        L_error_train.append( mean_squared_error(ypred_tr, ytr, squared=False) )\n",
    "        \n",
    "        ypred_test = model.predict(X_test)\n",
    "        L_error_test.append(mean_squared_error( ypred_test, y_test, squared=False) )\n",
    "        \n",
    "    print(\"Learning curves:\")  \n",
    "    plt.figure()\n",
    "    plt.plot(sizes, L_error_train, label=\"train\")\n",
    "    plt.plot(sizes, L_error_test, label=\"test\") \n",
    "    plt.legend()\n",
    "    \n",
    "    \n",
    "curves(X_train, X_test, y_train, y_test)"
   ]
  },
  {
   "cell_type": "markdown",
   "metadata": {},
   "source": [
    "# FINAL PREDICTION FOR GROUP 2"
   ]
  },
  {
   "cell_type": "code",
   "execution_count": 29,
   "metadata": {},
   "outputs": [
    {
     "name": "stdout",
     "output_type": "stream",
     "text": [
      "A2_true size is : (46, 27)\n"
     ]
    }
   ],
   "source": [
    "# same preprocessing for X_true\n",
    "\n",
    "def preproc2(X):\n",
    "\n",
    "    mask = ( X['MEASURE_TYPE'] ==3 )\n",
    "    X = X[mask]\n",
    "   \n",
    "    A = np.zeros((46,27))\n",
    "    \n",
    "    for i in range(46):\n",
    "        for j in range(27):\n",
    "            mask = ( X['ASSET_ID'] == j+1 ) & ( X['SAMPLE_ID'] == 105+i )\n",
    "            A[i,j] = X['MEASURE_VALUE'][mask].sum()  \n",
    "            \n",
    "    return(A)\n",
    "\n",
    "\n",
    "\n",
    "A2_true = preproc2( X_true2 )\n",
    "print(\"A2_true size is :\",A2_true.shape)\n",
    "\n",
    "########################################################################################################\n",
    "# same : delete the pikes\n",
    "\n",
    "mask= ( A2_true > medianes*threshold )\n",
    "A2_true[mask] = 0\n"
   ]
  },
  {
   "cell_type": "code",
   "execution_count": 32,
   "metadata": {},
   "outputs": [
    {
     "name": "stdout",
     "output_type": "stream",
     "text": [
      "(46,)\n"
     ]
    },
    {
     "data": {
      "text/plain": [
       "array([3852225.54180587, 3769307.2495868 , 3831290.32395676,\n",
       "       3944719.59654164, 3689363.94929525])"
      ]
     },
     "execution_count": 32,
     "metadata": {},
     "output_type": "execute_result"
    }
   ],
   "source": [
    "model = make_pipeline( StandardScaler(), SGDRegressor(random_state=0, alpha = best_alpha) )\n",
    "model.fit(A2,y2)\n",
    "ypred_final_group2= model.predict(A2_true)\n",
    "\n",
    "print(ypred_final_group2.shape)\n",
    "ypred_final_group2[0:5]"
   ]
  },
  {
   "cell_type": "markdown",
   "metadata": {},
   "source": [
    "# ##############SAME FOR ASSETS OF GROUP 3#####################"
   ]
  },
  {
   "cell_type": "code",
   "execution_count": 34,
   "metadata": {},
   "outputs": [
    {
     "name": "stdout",
     "output_type": "stream",
     "text": [
      "matrix A3 is size :  (104, 56)\n"
     ]
    }
   ],
   "source": [
    "# Storing the hours of work (type3 only) in a numpy matrix : A3\n",
    "\n",
    "def preproc3(X): \n",
    "\n",
    "    mask = ( X['MEASURE_TYPE'] == 3 )\n",
    "    X = X[mask]\n",
    "    \n",
    "    A3 = np.zeros((104,56))\n",
    "    \n",
    "    for i in range(104):\n",
    "        for j in range(56):\n",
    "            mask = ( X['ASSET_ID'] == j+28 ) & ( X['MEASURE_WEEK'] == i+1 )\n",
    "            A3[i,j] = X['MEASURE_VALUE'][mask].sum()\n",
    "    return(A3)\n",
    "\n",
    "A3 = preproc3( X_groupe3 )\n",
    "print(\"matrix A3 is size : \",A3.shape)\n",
    "\n",
    "########################################################################################################\n",
    "# same : delete the pikes\n",
    "\n",
    "medianes = np.median(A3, axis=0)\n",
    "threshold = 2.1 #empirical\n",
    "mask = (A3 > medianes*threshold)\n",
    "A3[mask] = 0"
   ]
  },
  {
   "cell_type": "markdown",
   "metadata": {},
   "source": [
    "# Regularization and learning curves"
   ]
  },
  {
   "cell_type": "code",
   "execution_count": 39,
   "metadata": {},
   "outputs": [
    {
     "name": "stdout",
     "output_type": "stream",
     "text": [
      "best alpha= 1\n"
     ]
    }
   ],
   "source": [
    "X_train, X_test, y_train, y_test = train_test_split( A3, y3, test_size=0.3, random_state=0)\n",
    "\n",
    "def best_value_alpha(X_train, X_test, y_train, y_test):  # looking for the best regularization value\n",
    "    \n",
    "    list_alpha =[0.01, 0.1, 0.3, 1, 3, 10, 100, 1000, 10000]\n",
    "    L=[]\n",
    "    best_regul = 0.01\n",
    "    best_error = 10e10\n",
    "    \n",
    "    for val in list_alpha :\n",
    "        \n",
    "        model = make_pipeline( StandardScaler(), SGDRegressor(random_state=0, alpha=val) )\n",
    "        model.fit(X_train, y_train)\n",
    "        ypred = model.predict( X_test )\n",
    "        error_current = mean_squared_error(ypred, y_test, squared=False)\n",
    "        \n",
    "        if error_current < best_error :\n",
    "            best_regul = val\n",
    "            best_error = error_current\n",
    "        \n",
    "    return best_regul\n",
    "    \n",
    "    \n",
    "best_alpha = best_value_alpha(X_train, X_test, y_train, y_test)\n",
    "print(\"best alpha=\", best_alpha)\n"
   ]
  },
  {
   "cell_type": "code",
   "execution_count": 42,
   "metadata": {},
   "outputs": [
    {
     "name": "stdout",
     "output_type": "stream",
     "text": [
      "Learning curves:\n"
     ]
    },
    {
     "data": {
      "image/png": "[encoded data removed]",
      "text/plain": [
       "<Figure size 432x288 with 1 Axes>"
      ]
     },
     "metadata": {
      "needs_background": "light"
     },
     "output_type": "display_data"
    }
   ],
   "source": [
    "def curves(X_train, X_test, y_train, y_test):\n",
    "    \n",
    "    sizes = range(5,80,5)\n",
    "    L_error_test=[]\n",
    "    L_error_train=[]\n",
    "    \n",
    "    for size in sizes:\n",
    "        \n",
    "        xtr = X_train[0:size,:]\n",
    "        ytr = y_train[0:size]\n",
    "        \n",
    "        model = make_pipeline( StandardScaler(), SGDRegressor(random_state=0,alpha=1) )\n",
    "        model.fit(xtr, ytr)\n",
    "        \n",
    "        ypred_tr = model.predict(xtr)\n",
    "        L_error_train.append( mean_squared_error(ypred_tr, ytr, squared=False) )\n",
    "        \n",
    "        ypred_test = model.predict(X_test)\n",
    "        L_error_test.append(mean_squared_error( ypred_test, y_test, squared=False) )\n",
    "        \n",
    "    print(\"Learning curves:\")  \n",
    "    plt.figure()\n",
    "    plt.plot(sizes, L_error_train, label=\"train\")\n",
    "    plt.plot(sizes, L_error_test, label=\"test\") \n",
    "    plt.legend()\n",
    "    \n",
    "    \n",
    "curves(X_train, X_test, y_train, y_test)"
   ]
  },
  {
   "cell_type": "markdown",
   "metadata": {},
   "source": [
    "# Same preprocessing for X_true, and prediction"
   ]
  },
  {
   "cell_type": "code",
   "execution_count": 35,
   "metadata": {},
   "outputs": [
    {
     "name": "stdout",
     "output_type": "stream",
     "text": [
      "A3_true is size :  (46, 56)\n"
     ]
    }
   ],
   "source": [
    "# Same for X_true\n",
    "\n",
    "def preproc4(X): \n",
    "\n",
    "    mask = ( X['MEASURE_TYPE'] == 3 )\n",
    "    X = X[mask]\n",
    "   \n",
    "    A=np.zeros((46,56))\n",
    "   \n",
    "    for i in range(46):\n",
    "        for j in range(56):\n",
    "            mask = ( X['ASSET_ID']==28+j ) & ( X['SAMPLE_ID']==105+i )\n",
    "            A[i,j] = X['MEASURE_VALUE'][mask].sum()\n",
    "    \n",
    "    return(A)\n",
    "\n",
    "\n",
    "\n",
    "A3_true = preproc4(X_true3)\n",
    "print(\"A3_true is size : \", A3_true.shape)\n",
    "\n",
    "# delete pikes\n",
    "\n",
    "mask2 = ( A3_true > medianes*threshold )\n",
    "A3_true[mask2] = 0"
   ]
  },
  {
   "cell_type": "code",
   "execution_count": 43,
   "metadata": {},
   "outputs": [
    {
     "name": "stdout",
     "output_type": "stream",
     "text": [
      "(46,)\n"
     ]
    },
    {
     "data": {
      "text/plain": [
       "array([9361205.87705467, 9249256.78672033, 9628603.68625237,\n",
       "       9169516.12746263, 8851873.81935316])"
      ]
     },
     "execution_count": 43,
     "metadata": {},
     "output_type": "execute_result"
    }
   ],
   "source": [
    "model = make_pipeline( StandardScaler(), SGDRegressor( random_state=0, alpha=best_alpha) )\n",
    "model.fit(A3,y3)\n",
    "\n",
    "ypred_final_group3 = model.predict(A3_true)\n",
    "\n",
    "print(ypred_final_group3.shape)\n",
    "ypred_final_group3[0:5]"
   ]
  },
  {
   "cell_type": "markdown",
   "metadata": {},
   "source": [
    "# Final prediction for the challenge.\n"
   ]
  },
  {
   "cell_type": "code",
   "execution_count": 45,
   "metadata": {},
   "outputs": [
    {
     "data": {
      "text/html": [
       "<div>\n",
       "<style scoped>\n",
       "    .dataframe tbody tr th:only-of-type {\n",
       "        vertical-align: middle;\n",
       "    }\n",
       "\n",
       "    .dataframe tbody tr th {\n",
       "        vertical-align: top;\n",
       "    }\n",
       "\n",
       "    .dataframe thead th {\n",
       "        text-align: right;\n",
       "    }\n",
       "</style>\n",
       "<table border=\"1\" class=\"dataframe\">\n",
       "  <thead>\n",
       "    <tr style=\"text-align: right;\">\n",
       "      <th></th>\n",
       "      <th>SAMPLE_ID</th>\n",
       "      <th>PRODUCTION_GROUP_2</th>\n",
       "      <th>PRODUCTION_GROUP_3</th>\n",
       "    </tr>\n",
       "  </thead>\n",
       "  <tbody>\n",
       "    <tr>\n",
       "      <th>0</th>\n",
       "      <td>105</td>\n",
       "      <td>3.852226e+06</td>\n",
       "      <td>9.361206e+06</td>\n",
       "    </tr>\n",
       "    <tr>\n",
       "      <th>1</th>\n",
       "      <td>106</td>\n",
       "      <td>3.769307e+06</td>\n",
       "      <td>9.249257e+06</td>\n",
       "    </tr>\n",
       "    <tr>\n",
       "      <th>2</th>\n",
       "      <td>107</td>\n",
       "      <td>3.831290e+06</td>\n",
       "      <td>9.628604e+06</td>\n",
       "    </tr>\n",
       "    <tr>\n",
       "      <th>3</th>\n",
       "      <td>108</td>\n",
       "      <td>3.944720e+06</td>\n",
       "      <td>9.169516e+06</td>\n",
       "    </tr>\n",
       "    <tr>\n",
       "      <th>4</th>\n",
       "      <td>109</td>\n",
       "      <td>3.689364e+06</td>\n",
       "      <td>8.851874e+06</td>\n",
       "    </tr>\n",
       "    <tr>\n",
       "      <th>5</th>\n",
       "      <td>110</td>\n",
       "      <td>4.006076e+06</td>\n",
       "      <td>9.449874e+06</td>\n",
       "    </tr>\n",
       "    <tr>\n",
       "      <th>6</th>\n",
       "      <td>111</td>\n",
       "      <td>3.700315e+06</td>\n",
       "      <td>9.168325e+06</td>\n",
       "    </tr>\n",
       "    <tr>\n",
       "      <th>7</th>\n",
       "      <td>112</td>\n",
       "      <td>3.552932e+06</td>\n",
       "      <td>8.555380e+06</td>\n",
       "    </tr>\n",
       "    <tr>\n",
       "      <th>8</th>\n",
       "      <td>113</td>\n",
       "      <td>3.755154e+06</td>\n",
       "      <td>9.105396e+06</td>\n",
       "    </tr>\n",
       "    <tr>\n",
       "      <th>9</th>\n",
       "      <td>114</td>\n",
       "      <td>3.883544e+06</td>\n",
       "      <td>9.330229e+06</td>\n",
       "    </tr>\n",
       "    <tr>\n",
       "      <th>10</th>\n",
       "      <td>115</td>\n",
       "      <td>3.763722e+06</td>\n",
       "      <td>9.208480e+06</td>\n",
       "    </tr>\n",
       "    <tr>\n",
       "      <th>11</th>\n",
       "      <td>116</td>\n",
       "      <td>3.839699e+06</td>\n",
       "      <td>9.149635e+06</td>\n",
       "    </tr>\n",
       "    <tr>\n",
       "      <th>12</th>\n",
       "      <td>117</td>\n",
       "      <td>3.792803e+06</td>\n",
       "      <td>9.130069e+06</td>\n",
       "    </tr>\n",
       "    <tr>\n",
       "      <th>13</th>\n",
       "      <td>118</td>\n",
       "      <td>3.577100e+06</td>\n",
       "      <td>9.000532e+06</td>\n",
       "    </tr>\n",
       "    <tr>\n",
       "      <th>14</th>\n",
       "      <td>119</td>\n",
       "      <td>3.882981e+06</td>\n",
       "      <td>9.439362e+06</td>\n",
       "    </tr>\n",
       "    <tr>\n",
       "      <th>15</th>\n",
       "      <td>120</td>\n",
       "      <td>3.937658e+06</td>\n",
       "      <td>9.252277e+06</td>\n",
       "    </tr>\n",
       "    <tr>\n",
       "      <th>16</th>\n",
       "      <td>121</td>\n",
       "      <td>3.711050e+06</td>\n",
       "      <td>8.731992e+06</td>\n",
       "    </tr>\n",
       "    <tr>\n",
       "      <th>17</th>\n",
       "      <td>122</td>\n",
       "      <td>3.926531e+06</td>\n",
       "      <td>9.104479e+06</td>\n",
       "    </tr>\n",
       "    <tr>\n",
       "      <th>18</th>\n",
       "      <td>123</td>\n",
       "      <td>3.908572e+06</td>\n",
       "      <td>9.442227e+06</td>\n",
       "    </tr>\n",
       "    <tr>\n",
       "      <th>19</th>\n",
       "      <td>124</td>\n",
       "      <td>3.665021e+06</td>\n",
       "      <td>9.323101e+06</td>\n",
       "    </tr>\n",
       "    <tr>\n",
       "      <th>20</th>\n",
       "      <td>125</td>\n",
       "      <td>3.841595e+06</td>\n",
       "      <td>9.372265e+06</td>\n",
       "    </tr>\n",
       "    <tr>\n",
       "      <th>21</th>\n",
       "      <td>126</td>\n",
       "      <td>3.829540e+06</td>\n",
       "      <td>9.018216e+06</td>\n",
       "    </tr>\n",
       "    <tr>\n",
       "      <th>22</th>\n",
       "      <td>127</td>\n",
       "      <td>3.822693e+06</td>\n",
       "      <td>9.334909e+06</td>\n",
       "    </tr>\n",
       "    <tr>\n",
       "      <th>23</th>\n",
       "      <td>128</td>\n",
       "      <td>3.845019e+06</td>\n",
       "      <td>9.491911e+06</td>\n",
       "    </tr>\n",
       "    <tr>\n",
       "      <th>24</th>\n",
       "      <td>129</td>\n",
       "      <td>3.613510e+06</td>\n",
       "      <td>8.708712e+06</td>\n",
       "    </tr>\n",
       "    <tr>\n",
       "      <th>25</th>\n",
       "      <td>130</td>\n",
       "      <td>3.861691e+06</td>\n",
       "      <td>9.342176e+06</td>\n",
       "    </tr>\n",
       "    <tr>\n",
       "      <th>26</th>\n",
       "      <td>131</td>\n",
       "      <td>3.759023e+06</td>\n",
       "      <td>9.330628e+06</td>\n",
       "    </tr>\n",
       "    <tr>\n",
       "      <th>27</th>\n",
       "      <td>132</td>\n",
       "      <td>3.754444e+06</td>\n",
       "      <td>9.392228e+06</td>\n",
       "    </tr>\n",
       "    <tr>\n",
       "      <th>28</th>\n",
       "      <td>133</td>\n",
       "      <td>3.523552e+06</td>\n",
       "      <td>8.693256e+06</td>\n",
       "    </tr>\n",
       "    <tr>\n",
       "      <th>29</th>\n",
       "      <td>134</td>\n",
       "      <td>3.758833e+06</td>\n",
       "      <td>9.520677e+06</td>\n",
       "    </tr>\n",
       "    <tr>\n",
       "      <th>30</th>\n",
       "      <td>135</td>\n",
       "      <td>3.611146e+06</td>\n",
       "      <td>8.730566e+06</td>\n",
       "    </tr>\n",
       "    <tr>\n",
       "      <th>31</th>\n",
       "      <td>136</td>\n",
       "      <td>3.533604e+06</td>\n",
       "      <td>9.087001e+06</td>\n",
       "    </tr>\n",
       "    <tr>\n",
       "      <th>32</th>\n",
       "      <td>137</td>\n",
       "      <td>3.805520e+06</td>\n",
       "      <td>9.154142e+06</td>\n",
       "    </tr>\n",
       "    <tr>\n",
       "      <th>33</th>\n",
       "      <td>138</td>\n",
       "      <td>3.908715e+06</td>\n",
       "      <td>9.035670e+06</td>\n",
       "    </tr>\n",
       "    <tr>\n",
       "      <th>34</th>\n",
       "      <td>139</td>\n",
       "      <td>3.766478e+06</td>\n",
       "      <td>8.976089e+06</td>\n",
       "    </tr>\n",
       "    <tr>\n",
       "      <th>35</th>\n",
       "      <td>140</td>\n",
       "      <td>3.879710e+06</td>\n",
       "      <td>9.063948e+06</td>\n",
       "    </tr>\n",
       "    <tr>\n",
       "      <th>36</th>\n",
       "      <td>141</td>\n",
       "      <td>3.758591e+06</td>\n",
       "      <td>8.675837e+06</td>\n",
       "    </tr>\n",
       "    <tr>\n",
       "      <th>37</th>\n",
       "      <td>142</td>\n",
       "      <td>3.596807e+06</td>\n",
       "      <td>9.620921e+06</td>\n",
       "    </tr>\n",
       "    <tr>\n",
       "      <th>38</th>\n",
       "      <td>143</td>\n",
       "      <td>3.802567e+06</td>\n",
       "      <td>9.208128e+06</td>\n",
       "    </tr>\n",
       "    <tr>\n",
       "      <th>39</th>\n",
       "      <td>144</td>\n",
       "      <td>3.836367e+06</td>\n",
       "      <td>9.233739e+06</td>\n",
       "    </tr>\n",
       "    <tr>\n",
       "      <th>40</th>\n",
       "      <td>145</td>\n",
       "      <td>3.694868e+06</td>\n",
       "      <td>9.411146e+06</td>\n",
       "    </tr>\n",
       "    <tr>\n",
       "      <th>41</th>\n",
       "      <td>146</td>\n",
       "      <td>3.939260e+06</td>\n",
       "      <td>9.301849e+06</td>\n",
       "    </tr>\n",
       "    <tr>\n",
       "      <th>42</th>\n",
       "      <td>147</td>\n",
       "      <td>3.812352e+06</td>\n",
       "      <td>9.151781e+06</td>\n",
       "    </tr>\n",
       "    <tr>\n",
       "      <th>43</th>\n",
       "      <td>148</td>\n",
       "      <td>3.985629e+06</td>\n",
       "      <td>8.829450e+06</td>\n",
       "    </tr>\n",
       "    <tr>\n",
       "      <th>44</th>\n",
       "      <td>149</td>\n",
       "      <td>3.760848e+06</td>\n",
       "      <td>9.084346e+06</td>\n",
       "    </tr>\n",
       "    <tr>\n",
       "      <th>45</th>\n",
       "      <td>150</td>\n",
       "      <td>3.823301e+06</td>\n",
       "      <td>9.216872e+06</td>\n",
       "    </tr>\n",
       "  </tbody>\n",
       "</table>\n",
       "</div>"
      ],
      "text/plain": [
       "    SAMPLE_ID  PRODUCTION_GROUP_2  PRODUCTION_GROUP_3\n",
       "0         105        3.852226e+06        9.361206e+06\n",
       "1         106        3.769307e+06        9.249257e+06\n",
       "2         107        3.831290e+06        9.628604e+06\n",
       "3         108        3.944720e+06        9.169516e+06\n",
       "4         109        3.689364e+06        8.851874e+06\n",
       "5         110        4.006076e+06        9.449874e+06\n",
       "6         111        3.700315e+06        9.168325e+06\n",
       "7         112        3.552932e+06        8.555380e+06\n",
       "8         113        3.755154e+06        9.105396e+06\n",
       "9         114        3.883544e+06        9.330229e+06\n",
       "10        115        3.763722e+06        9.208480e+06\n",
       "11        116        3.839699e+06        9.149635e+06\n",
       "12        117        3.792803e+06        9.130069e+06\n",
       "13        118        3.577100e+06        9.000532e+06\n",
       "14        119        3.882981e+06        9.439362e+06\n",
       "15        120        3.937658e+06        9.252277e+06\n",
       "16        121        3.711050e+06        8.731992e+06\n",
       "17        122        3.926531e+06        9.104479e+06\n",
       "18        123        3.908572e+06        9.442227e+06\n",
       "19        124        3.665021e+06        9.323101e+06\n",
       "20        125        3.841595e+06        9.372265e+06\n",
       "21        126        3.829540e+06        9.018216e+06\n",
       "22        127        3.822693e+06        9.334909e+06\n",
       "23        128        3.845019e+06        9.491911e+06\n",
       "24        129        3.613510e+06        8.708712e+06\n",
       "25        130        3.861691e+06        9.342176e+06\n",
       "26        131        3.759023e+06        9.330628e+06\n",
       "27        132        3.754444e+06        9.392228e+06\n",
       "28        133        3.523552e+06        8.693256e+06\n",
       "29        134        3.758833e+06        9.520677e+06\n",
       "30        135        3.611146e+06        8.730566e+06\n",
       "31        136        3.533604e+06        9.087001e+06\n",
       "32        137        3.805520e+06        9.154142e+06\n",
       "33        138        3.908715e+06        9.035670e+06\n",
       "34        139        3.766478e+06        8.976089e+06\n",
       "35        140        3.879710e+06        9.063948e+06\n",
       "36        141        3.758591e+06        8.675837e+06\n",
       "37        142        3.596807e+06        9.620921e+06\n",
       "38        143        3.802567e+06        9.208128e+06\n",
       "39        144        3.836367e+06        9.233739e+06\n",
       "40        145        3.694868e+06        9.411146e+06\n",
       "41        146        3.939260e+06        9.301849e+06\n",
       "42        147        3.812352e+06        9.151781e+06\n",
       "43        148        3.985629e+06        8.829450e+06\n",
       "44        149        3.760848e+06        9.084346e+06\n",
       "45        150        3.823301e+06        9.216872e+06"
      ]
     },
     "execution_count": 45,
     "metadata": {},
     "output_type": "execute_result"
    }
   ],
   "source": [
    "y_example['PRODUCTION_GROUP_2'] = ypred_final_group2\n",
    "y_example['PRODUCTION_GROUP_3'] = ypred_final_group3\n",
    "y_example.to_csv('prediction_pierre.csv' ,index=False)\n",
    "y_example"
   ]
  },
  {
   "cell_type": "markdown",
   "metadata": {},
   "source": [
    "# What to try next? \n",
    "\n",
    "Decision tree regressor, \n",
    "\n",
    "random forrest regressor, \n",
    "\n",
    "hours of type 1, 2 and 4, \n",
    "\n",
    "etc..."
   ]
  },
  {
   "cell_type": "markdown",
   "metadata": {},
   "source": [
    "# ########### PERSONNAL NOTES : DO NOT READ ###############\""
   ]
  },
  {
   "cell_type": "code",
   "execution_count": 23,
   "metadata": {},
   "outputs": [],
   "source": [
    "#détermination du meilleur seuil pour arraser les pics (fait en preprocess)\n",
    "\n",
    "def meilleur_seuil(medianes, X_train, X_test, y_train, y_test): \n",
    "    seuils=np.linspace(4,1,100)\n",
    "    L=[]\n",
    "    \n",
    "    for coef in seuils:\n",
    "        mask1=X_train>medianes*coef  \n",
    "        X_train[mask1]=0\n",
    "        \n",
    "        mask2=X_test>medianes*coef\n",
    "        X_test[mask2]=0\n",
    "\n",
    "        model=make_pipeline(StandardScaler(),SGDRegressor(random_state=0,alpha=10))\n",
    "        model.fit(X_train,y_train)\n",
    "        ypred=model.predict(X_test)\n",
    "\n",
    "        L.append(mean_squared_error(ypred,y_test))\n",
    "    print(\"courbe pour le meilleur coef d'arrasement:\")\n",
    "    plt.plot(seuils,L)\n",
    "    \n"
   ]
  },
  {
   "cell_type": "markdown",
   "metadata": {},
   "source": [
    "# essai d'expansion polynomiale pour contrer le bias (échec)"
   ]
  },
  {
   "cell_type": "code",
   "execution_count": 6,
   "metadata": {},
   "outputs": [
    {
     "name": "stdout",
     "output_type": "stream",
     "text": [
      "(46,)\n"
     ]
    },
    {
     "data": {
      "text/plain": [
       "array([3927217.97238462, 3716471.1411272 , 3869620.01059734,\n",
       "       4098369.42477521, 3567117.59164064])"
      ]
     },
     "execution_count": 6,
     "metadata": {},
     "output_type": "execute_result"
    }
   ],
   "source": [
    "#prévision : on entraine sur A2. On prédit sur A2_true.\n",
    "\n",
    "model=make_pipeline(PolynomialFeatures(2),StandardScaler(),SGDRegressor(random_state=0,alpha=best_regul))\n",
    "model.fit(A2,y2)\n",
    "\n",
    "ypred_finale2= model.predict(A2_true)\n",
    "\n",
    "print(ypred_finale2.shape)\n",
    "ypred_finale2[0:5]"
   ]
  },
  {
   "cell_type": "code",
   "execution_count": 10,
   "metadata": {},
   "outputs": [
    {
     "name": "stdout",
     "output_type": "stream",
     "text": [
      "(46,)\n"
     ]
    },
    {
     "data": {
      "text/plain": [
       "array([-3.19799467e+12, -4.46649915e+12, -8.71230565e+11, -3.29392135e+12,\n",
       "       -1.25714627e+12])"
      ]
     },
     "execution_count": 10,
     "metadata": {},
     "output_type": "execute_result"
    }
   ],
   "source": [
    "#prévision : on entraine sur A3. On prédit sur A3_true.\n",
    "\n",
    "model=make_pipeline(PolynomialFeatures(2),StandardScaler(),SGDRegressor(random_state=0,alpha=best_regul))\n",
    "model.fit(A3,y3)\n",
    "\n",
    "ypred_finale3= model.predict(A3_true)\n",
    "\n",
    "print(ypred_finale3.shape)\n",
    "ypred_finale3[0:5]"
   ]
  }
 ],
 "metadata": {
  "kernelspec": {
   "display_name": "Python 3",
   "language": "python",
   "name": "python3"
  },
  "language_info": {
   "codemirror_mode": {
    "name": "ipython",
    "version": 3
   },
   "file_extension": ".py",
   "mimetype": "text/x-python",
   "name": "python",
   "nbconvert_exporter": "python",
   "pygments_lexer": "ipython3",
   "version": "3.8.5"
  }
 },
 "nbformat": 4,
 "nbformat_minor": 4
}
